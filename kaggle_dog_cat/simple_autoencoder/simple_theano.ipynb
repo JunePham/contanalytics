{
 "metadata": {
  "name": ""
 },
 "nbformat": 3,
 "nbformat_minor": 0,
 "worksheets": [
  {
   "cells": [
    {
     "cell_type": "code",
     "collapsed": false,
     "input": [
      "import theano\n",
      "import numpy"
     ],
     "language": "python",
     "metadata": {},
     "outputs": [],
     "prompt_number": 4
    },
    {
     "cell_type": "code",
     "collapsed": false,
     "input": [
      "class AutoEncoder(object):\n",
      "\n",
      "  def __init__(self, numpy_rng, input=None, n_visible=784, n_hidden=500,\n",
      "           W=None, bhid=None, bvis=None):\n",
      "    \"\"\"\n",
      "\n",
      "    :type numpy_rng: numpy.random.RandomState\n",
      "    :param numpy_rng: number random generator used to generate weights\n",
      "\n",
      "\n",
      "    :type input: theano.tensor.TensorType\n",
      "    :paran input: a symbolic description of the input or None for standalone\n",
      "                  dA\n",
      "\n",
      "    :type n_visible: int\n",
      "    :param n_visible: number of visible units\n",
      "\n",
      "    :type n_hidden: int\n",
      "    :param n_hidden:  number of hidden units\n",
      "\n",
      "    :type W: theano.tensor.TensorType\n",
      "    :param W: Theano variable pointing to a set of weights that should be\n",
      "              shared belong the dA and another architecture; if dA should\n",
      "              be standalone set this to None\n",
      "\n",
      "    :type bhid: theano.tensor.TensorType\n",
      "    :param bhid: Theano variable pointing to a set of biases values (for\n",
      "                 hidden units) that should be shared belong dA and another\n",
      "                 architecture; if dA should be standalone set this to None\n",
      "\n",
      "    :type bvis: theano.tensor.TensorType\n",
      "    :param bvis: Theano variable pointing to a set of biases values (for\n",
      "                 visible units) that should be shared belong dA and another\n",
      "                 architecture; if dA should be standalone set this to None\n",
      "\n",
      "\n",
      "    \"\"\"\n",
      "    self.n_visible = n_visible\n",
      "    self.n_hidden = n_hidden\n",
      "\n",
      "\n",
      "    # note : W' was written as `W_prime` and b' as `b_prime`\n",
      "    if not W:\n",
      "        # W is initialized with `initial_W` which is uniformely sampled\n",
      "        # from -4*sqrt(6./(n_visible+n_hidden)) and 4*sqrt(6./(n_hidden+n_visible))\n",
      "        # the output of uniform if converted using asarray to dtype\n",
      "        # theano.config.floatX so that the code is runable on GPU\n",
      "        initial_W = numpy.asarray(numpy_rng.uniform(\n",
      "                  low=-4 * numpy.sqrt(6. / (n_hidden + n_visible)),\n",
      "                  high=4 * numpy.sqrt(6. / (n_hidden + n_visible)),\n",
      "                  size=(n_visible, n_hidden)), dtype=theano.config.floatX)\n",
      "        W = theano.shared(value=initial_W, name='W')\n",
      "\n",
      "    if not bvis:\n",
      "        bvis = theano.shared(value=numpy.zeros(n_visible,\n",
      "                                    dtype=theano.config.floatX), name='bvis')\n",
      "\n",
      "    if not bhid:\n",
      "        bhid = theano.shared(value=numpy.zeros(n_hidden,\n",
      "                                          dtype=theano.config.floatX), name='bhid')\n",
      "\n",
      "\n",
      "    self.W = W\n",
      "    # b corresponds to the bias of the hidden\n",
      "    self.b = bhid\n",
      "    # b_prime corresponds to the bias of the visible\n",
      "    self.b_prime = bvis\n",
      "    # tied weights, therefore W_prime is W transpose\n",
      "    self.W_prime = self.W.T\n",
      "    # if no input is given, generate a variable representing the input\n",
      "    if input == None:\n",
      "        # we use a matrix because we expect a minibatch of several examples,\n",
      "        # each example being a row\n",
      "        self.x = T.dmatrix(name='input')\n",
      "    else:\n",
      "        self.x = input\n",
      "\n",
      "    self.params = [self.W, self.b, self.b_prime]"
     ],
     "language": "python",
     "metadata": {},
     "outputs": [],
     "prompt_number": 5
    },
    {
     "cell_type": "code",
     "collapsed": false,
     "input": [
      "autoencoder = AutoEncoder(numpy_rng=numpy.random.RandomState(1234), n_visible=784, n_hidden=500)"
     ],
     "language": "python",
     "metadata": {},
     "outputs": [
      {
       "ename": "NameError",
       "evalue": "global name 'T' is not defined",
       "output_type": "pyerr",
       "traceback": [
        "\u001b[1;31m---------------------------------------------------------------------------\u001b[0m\n\u001b[1;31mNameError\u001b[0m                                 Traceback (most recent call last)",
        "\u001b[1;32m<ipython-input-6-e314de809f61>\u001b[0m in \u001b[0;36m<module>\u001b[1;34m()\u001b[0m\n\u001b[1;32m----> 1\u001b[1;33m \u001b[0mautoencoder\u001b[0m \u001b[1;33m=\u001b[0m \u001b[0mAutoEncoder\u001b[0m\u001b[1;33m(\u001b[0m\u001b[0mnumpy_rng\u001b[0m\u001b[1;33m=\u001b[0m\u001b[0mnumpy\u001b[0m\u001b[1;33m.\u001b[0m\u001b[0mrandom\u001b[0m\u001b[1;33m.\u001b[0m\u001b[0mRandomState\u001b[0m\u001b[1;33m(\u001b[0m\u001b[1;36m1234\u001b[0m\u001b[1;33m)\u001b[0m\u001b[1;33m,\u001b[0m \u001b[0mn_visible\u001b[0m\u001b[1;33m=\u001b[0m\u001b[1;36m784\u001b[0m\u001b[1;33m,\u001b[0m \u001b[0mn_hidden\u001b[0m\u001b[1;33m=\u001b[0m\u001b[1;36m500\u001b[0m\u001b[1;33m)\u001b[0m\u001b[1;33m\u001b[0m\u001b[0m\n\u001b[0m",
        "\u001b[1;32m<ipython-input-5-21b56ac3e42c>\u001b[0m in \u001b[0;36m__init__\u001b[1;34m(self, numpy_rng, input, n_visible, n_hidden, W, bhid, bvis)\u001b[0m\n\u001b[0;32m     72\u001b[0m         \u001b[1;31m# we use a matrix because we expect a minibatch of several examples,\u001b[0m\u001b[1;33m\u001b[0m\u001b[1;33m\u001b[0m\u001b[0m\n\u001b[0;32m     73\u001b[0m         \u001b[1;31m# each example being a row\u001b[0m\u001b[1;33m\u001b[0m\u001b[1;33m\u001b[0m\u001b[0m\n\u001b[1;32m---> 74\u001b[1;33m         \u001b[0mself\u001b[0m\u001b[1;33m.\u001b[0m\u001b[0mx\u001b[0m \u001b[1;33m=\u001b[0m \u001b[0mT\u001b[0m\u001b[1;33m.\u001b[0m\u001b[0mdmatrix\u001b[0m\u001b[1;33m(\u001b[0m\u001b[0mname\u001b[0m\u001b[1;33m=\u001b[0m\u001b[1;34m'input'\u001b[0m\u001b[1;33m)\u001b[0m\u001b[1;33m\u001b[0m\u001b[0m\n\u001b[0m\u001b[0;32m     75\u001b[0m     \u001b[1;32melse\u001b[0m\u001b[1;33m:\u001b[0m\u001b[1;33m\u001b[0m\u001b[0m\n\u001b[0;32m     76\u001b[0m         \u001b[0mself\u001b[0m\u001b[1;33m.\u001b[0m\u001b[0mx\u001b[0m \u001b[1;33m=\u001b[0m \u001b[0minput\u001b[0m\u001b[1;33m\u001b[0m\u001b[0m\n",
        "\u001b[1;31mNameError\u001b[0m: global name 'T' is not defined"
       ]
      }
     ],
     "prompt_number": 6
    },
    {
     "cell_type": "code",
     "collapsed": false,
     "input": [],
     "language": "python",
     "metadata": {},
     "outputs": []
    }
   ],
   "metadata": {}
  }
 ]
}